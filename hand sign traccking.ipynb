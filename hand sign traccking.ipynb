{
 "cells": [
  {
   "cell_type": "code",
   "execution_count": 1,
   "metadata": {},
   "outputs": [
    {
     "ename": "ModuleNotFoundError",
     "evalue": "No module named 'dlib'",
     "output_type": "error",
     "traceback": [
      "\u001b[1;31m---------------------------------------------------------------------------\u001b[0m",
      "\u001b[1;31mModuleNotFoundError\u001b[0m                       Traceback (most recent call last)",
      "\u001b[1;32m<ipython-input-1-d25f48e861da>\u001b[0m in \u001b[0;36m<module>\u001b[1;34m\u001b[0m\n\u001b[1;32m----> 1\u001b[1;33m \u001b[1;32mimport\u001b[0m \u001b[0mdlib\u001b[0m\u001b[1;33m\u001b[0m\u001b[1;33m\u001b[0m\u001b[0m\n\u001b[0m",
      "\u001b[1;31mModuleNotFoundError\u001b[0m: No module named 'dlib'"
     ]
    }
   ],
   "source": [
    "import dlib\n"
   ]
  },
  {
   "cell_type": "code",
   "execution_count": 2,
   "metadata": {},
   "outputs": [
    {
     "name": "stdout",
     "output_type": "stream",
     "text": [
      "Collecting dlib\n",
      "  Using cached dlib-19.21.0.tar.gz (3.2 MB)\n",
      "Using legacy 'setup.py install' for dlib, since package 'wheel' is not installed.\n",
      "Installing collected packages: dlib\n",
      "    Running setup.py install for dlib: started\n",
      "    Running setup.py install for dlib: finished with status 'error'\n"
     ]
    },
    {
     "name": "stderr",
     "output_type": "stream",
     "text": [
      "    ERROR: Command errored out with exit status 1:\n",
      "     command: 'c:\\users\\kunal\\appdata\\local\\programs\\python\\python39\\python.exe' -u -c 'import sys, setuptools, tokenize; sys.argv[0] = '\"'\"'C:\\\\Users\\\\kunal\\\\AppData\\\\Local\\\\Temp\\\\pip-install-o3thz2ji\\\\dlib\\\\setup.py'\"'\"'; __file__='\"'\"'C:\\\\Users\\\\kunal\\\\AppData\\\\Local\\\\Temp\\\\pip-install-o3thz2ji\\\\dlib\\\\setup.py'\"'\"';f=getattr(tokenize, '\"'\"'open'\"'\"', open)(__file__);code=f.read().replace('\"'\"'\\r\\n'\"'\"', '\"'\"'\\n'\"'\"');f.close();exec(compile(code, __file__, '\"'\"'exec'\"'\"'))' install --record 'C:\\Users\\kunal\\AppData\\Local\\Temp\\pip-record-7h2eritk\\install-record.txt' --single-version-externally-managed --compile --install-headers 'c:\\users\\kunal\\appdata\\local\\programs\\python\\python39\\Include\\dlib'\n",
      "         cwd: C:\\Users\\kunal\\AppData\\Local\\Temp\\pip-install-o3thz2ji\\dlib\\\n",
      "    Complete output (55 lines):\n",
      "    running install\n",
      "    running build\n",
      "    running build_py\n",
      "    package init file 'tools\\python\\dlib\\__init__.py' not found (or not a regular file)\n",
      "    running build_ext\n",
      "    Traceback (most recent call last):\n",
      "      File \"C:\\Users\\kunal\\AppData\\Local\\Temp\\pip-install-o3thz2ji\\dlib\\setup.py\", line 120, in get_cmake_version\n",
      "        out = subprocess.check_output(['cmake', '--version'])\n",
      "      File \"c:\\users\\kunal\\appdata\\local\\programs\\python\\python39\\lib\\subprocess.py\", line 420, in check_output\n",
      "        return run(*popenargs, stdout=PIPE, timeout=timeout, check=True,\n",
      "      File \"c:\\users\\kunal\\appdata\\local\\programs\\python\\python39\\lib\\subprocess.py\", line 501, in run\n",
      "        with Popen(*popenargs, **kwargs) as process:\n",
      "      File \"c:\\users\\kunal\\appdata\\local\\programs\\python\\python39\\lib\\subprocess.py\", line 947, in __init__\n",
      "        self._execute_child(args, executable, preexec_fn, close_fds,\n",
      "      File \"c:\\users\\kunal\\appdata\\local\\programs\\python\\python39\\lib\\subprocess.py\", line 1416, in _execute_child\n",
      "        hp, ht, pid, tid = _winapi.CreateProcess(executable, args,\n",
      "    FileNotFoundError: [WinError 2] The system cannot find the file specified\n",
      "    \n",
      "    During handling of the above exception, another exception occurred:\n",
      "    \n",
      "    Traceback (most recent call last):\n",
      "      File \"<string>\", line 1, in <module>\n",
      "      File \"C:\\Users\\kunal\\AppData\\Local\\Temp\\pip-install-o3thz2ji\\dlib\\setup.py\", line 223, in <module>\n",
      "        setup(\n",
      "      File \"c:\\users\\kunal\\appdata\\local\\programs\\python\\python39\\lib\\site-packages\\setuptools\\__init__.py\", line 165, in setup\n",
      "        return distutils.core.setup(**attrs)\n",
      "      File \"c:\\users\\kunal\\appdata\\local\\programs\\python\\python39\\lib\\distutils\\core.py\", line 148, in setup\n",
      "        dist.run_commands()\n",
      "      File \"c:\\users\\kunal\\appdata\\local\\programs\\python\\python39\\lib\\distutils\\dist.py\", line 966, in run_commands\n",
      "        self.run_command(cmd)\n",
      "      File \"c:\\users\\kunal\\appdata\\local\\programs\\python\\python39\\lib\\distutils\\dist.py\", line 985, in run_command\n",
      "        cmd_obj.run()\n",
      "      File \"c:\\users\\kunal\\appdata\\local\\programs\\python\\python39\\lib\\site-packages\\setuptools\\command\\install.py\", line 61, in run\n",
      "        return orig.install.run(self)\n",
      "      File \"c:\\users\\kunal\\appdata\\local\\programs\\python\\python39\\lib\\distutils\\command\\install.py\", line 546, in run\n",
      "        self.run_command('build')\n",
      "      File \"c:\\users\\kunal\\appdata\\local\\programs\\python\\python39\\lib\\distutils\\cmd.py\", line 313, in run_command\n",
      "        self.distribution.run_command(command)\n",
      "      File \"c:\\users\\kunal\\appdata\\local\\programs\\python\\python39\\lib\\distutils\\dist.py\", line 985, in run_command\n",
      "        cmd_obj.run()\n",
      "      File \"c:\\users\\kunal\\appdata\\local\\programs\\python\\python39\\lib\\distutils\\command\\build.py\", line 135, in run\n",
      "        self.run_command(cmd_name)\n",
      "      File \"c:\\users\\kunal\\appdata\\local\\programs\\python\\python39\\lib\\distutils\\cmd.py\", line 313, in run_command\n",
      "        self.distribution.run_command(command)\n",
      "      File \"c:\\users\\kunal\\appdata\\local\\programs\\python\\python39\\lib\\distutils\\dist.py\", line 985, in run_command\n",
      "        cmd_obj.run()\n",
      "      File \"C:\\Users\\kunal\\AppData\\Local\\Temp\\pip-install-o3thz2ji\\dlib\\setup.py\", line 129, in run\n",
      "        cmake_version = self.get_cmake_version()\n",
      "      File \"C:\\Users\\kunal\\AppData\\Local\\Temp\\pip-install-o3thz2ji\\dlib\\setup.py\", line 122, in get_cmake_version\n",
      "        raise RuntimeError(\"\\n*******************************************************************\\n\" +\n",
      "    RuntimeError:\n",
      "    *******************************************************************\n",
      "     CMake must be installed to build the following extensions: _dlib_pybind11\n",
      "    *******************************************************************\n",
      "    \n",
      "    ----------------------------------------\n",
      "ERROR: Command errored out with exit status 1: 'c:\\users\\kunal\\appdata\\local\\programs\\python\\python39\\python.exe' -u -c 'import sys, setuptools, tokenize; sys.argv[0] = '\"'\"'C:\\\\Users\\\\kunal\\\\AppData\\\\Local\\\\Temp\\\\pip-install-o3thz2ji\\\\dlib\\\\setup.py'\"'\"'; __file__='\"'\"'C:\\\\Users\\\\kunal\\\\AppData\\\\Local\\\\Temp\\\\pip-install-o3thz2ji\\\\dlib\\\\setup.py'\"'\"';f=getattr(tokenize, '\"'\"'open'\"'\"', open)(__file__);code=f.read().replace('\"'\"'\\r\\n'\"'\"', '\"'\"'\\n'\"'\"');f.close();exec(compile(code, __file__, '\"'\"'exec'\"'\"'))' install --record 'C:\\Users\\kunal\\AppData\\Local\\Temp\\pip-record-7h2eritk\\install-record.txt' --single-version-externally-managed --compile --install-headers 'c:\\users\\kunal\\appdata\\local\\programs\\python\\python39\\Include\\dlib' Check the logs for full command output.\n",
      "WARNING: You are using pip version 20.2.3; however, version 20.2.4 is available.\n",
      "You should consider upgrading via the 'c:\\users\\kunal\\appdata\\local\\programs\\python\\python39\\python.exe -m pip install --upgrade pip' command.\n"
     ]
    }
   ],
   "source": [
    "!pip3 install dlib\n"
   ]
  },
  {
   "cell_type": "code",
   "execution_count": null,
   "metadata": {},
   "outputs": [],
   "source": []
  }
 ],
 "metadata": {
  "kernelspec": {
   "display_name": "Python 3",
   "language": "python",
   "name": "python3"
  },
  "language_info": {
   "codemirror_mode": {
    "name": "ipython",
    "version": 3
   },
   "file_extension": ".py",
   "mimetype": "text/x-python",
   "name": "python",
   "nbconvert_exporter": "python",
   "pygments_lexer": "ipython3",
   "version": "3.7.6"
  }
 },
 "nbformat": 4,
 "nbformat_minor": 4
}
